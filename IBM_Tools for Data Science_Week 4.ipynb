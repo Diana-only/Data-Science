{
 "cells": [
  {
   "cell_type": "markdown",
   "id": "a2927987",
   "metadata": {},
   "source": [
    "# My Jupyter Notebook on IBM Watson Studio"
   ]
  },
  {
   "cell_type": "markdown",
   "id": "4a88ab18",
   "metadata": {},
   "source": [
    "**Meng Yuan**\n",
    "\n",
    "I want to be a data analyst."
   ]
  },
  {
   "cell_type": "markdown",
   "id": "2d6f5097",
   "metadata": {},
   "source": [
    "*I am interested in data science because valuable information can be found in the data*"
   ]
  },
  {
   "cell_type": "markdown",
   "id": "379061ca",
   "metadata": {},
   "source": [
    "### The following code tests Euclid formula"
   ]
  },
  {
   "cell_type": "code",
   "execution_count": 20,
   "id": "0bc6ee3b",
   "metadata": {},
   "outputs": [
    {
     "data": {
      "text/plain": [
       "2.0"
      ]
     },
     "execution_count": 20,
     "metadata": {},
     "output_type": "execute_result"
    }
   ],
   "source": [
    "import math\n",
    "\n",
    "def euclid(p1,p2):\n",
    "    x1 = p1[0]\n",
    "    y1 = p1[1]\n",
    "    x2 = p2[0]\n",
    "    y2 = p2[1]\n",
    "    return math.sqrt((x1-x2)^2+(y1-y2)^2)\n",
    "\n",
    "p1 = (3,8)\n",
    "p2 = (6,15)\n",
    "euclid(p1,p2)"
   ]
  },
  {
   "cell_type": "markdown",
   "id": "ee31561a",
   "metadata": {},
   "source": [
    "[Peer-graded Assignment: Submit Your Work and Grade Your Peers](https://www.coursera.org/learn/open-source-tools-for-data-science/peer/2pLEh/submit-your-work-and-grade-your-peers)\n",
    "\n",
    "|    Level    |     Mark    |  \n",
    "| ------------- |:-------------:| \n",
    "|    a     |    90~100   |\n",
    "|    b     |    80~89    |\n",
    "|    c     |    60~79    |\n",
    "\n",
    "\n",
    "![Tree][logo]\n",
    "\n",
    "[logo]: https://pixabay.com/vectors/tree-trunk-leaves-branches-nature-576847/ \"Tree\"\n",
    "\n",
    "\n",
    "+ ONE\n",
    "- TWO\n",
    "* THREE\n",
    "* FOUR\n",
    "* FIVE"
   ]
  }
 ],
 "metadata": {
  "kernelspec": {
   "display_name": "Python 3",
   "language": "python",
   "name": "python3"
  },
  "language_info": {
   "codemirror_mode": {
    "name": "ipython",
    "version": 3
   },
   "file_extension": ".py",
   "mimetype": "text/x-python",
   "name": "python",
   "nbconvert_exporter": "python",
   "pygments_lexer": "ipython3",
   "version": "3.7.9"
  },
  "latex_envs": {
   "LaTeX_envs_menu_present": true,
   "autoclose": false,
   "autocomplete": true,
   "bibliofile": "biblio.bib",
   "cite_by": "apalike",
   "current_citInitial": 1,
   "eqLabelWithNumbers": true,
   "eqNumInitial": 1,
   "hotkeys": {
    "equation": "Ctrl-E",
    "itemize": "Ctrl-I"
   },
   "labels_anchors": false,
   "latex_user_defs": false,
   "report_style_numbering": false,
   "user_envs_cfg": false
  },
  "varInspector": {
   "cols": {
    "lenName": 16,
    "lenType": 16,
    "lenVar": 40
   },
   "kernels_config": {
    "python": {
     "delete_cmd_postfix": "",
     "delete_cmd_prefix": "del ",
     "library": "var_list.py",
     "varRefreshCmd": "print(var_dic_list())"
    },
    "r": {
     "delete_cmd_postfix": ") ",
     "delete_cmd_prefix": "rm(",
     "library": "var_list.r",
     "varRefreshCmd": "cat(var_dic_list()) "
    }
   },
   "types_to_exclude": [
    "module",
    "function",
    "builtin_function_or_method",
    "instance",
    "_Feature"
   ],
   "window_display": false
  }
 },
 "nbformat": 4,
 "nbformat_minor": 5
}
